{
 "cells": [
  {
   "attachments": {},
   "cell_type": "markdown",
   "id": "96b6434e",
   "metadata": {},
   "source": [
    "# Laboratorio de Python para Data Science "
   ]
  },
  {
   "attachments": {},
   "cell_type": "markdown",
   "id": "e979d975",
   "metadata": {},
   "source": [
    "## Resumen de Git"
   ]
  },
  {
   "attachments": {},
   "cell_type": "markdown",
   "id": "d61c59d0",
   "metadata": {},
   "source": [
    "De acuerdo a Wikipedia, Git es un software de control de versiones diseñado por **Linus Torvalds**, pensando en la eficiencia, la confiabilidad y compatibilidad del mantenimiento de versiones de aplicaciones cuando estas tienen un gran número de archivos de código fuente. Su propósito es llevar registro de los cambios en archivos de computadora incluyendo coordinar el trabajo que varias personas realizan sobre archivos compartidos en un repositorio de código. \n",
    "\n",
    "Git lo que hace es que vuelve **arboles** a estructuras de folders y archivos, también es una estructura recursiva."
   ]
  },
  {
   "attachments": {},
   "cell_type": "markdown",
   "id": "ba8f5b14",
   "metadata": {},
   "source": [
    "### ¿Cómo se modelan los archivos y folders?"
   ]
  },
  {
   "attachments": {},
   "cell_type": "markdown",
   "id": "fd4df5a5",
   "metadata": {},
   "source": [
    "<img src=\"ej1.jpg\">"
   ]
  },
  {
   "attachments": {},
   "cell_type": "markdown",
   "id": "f8cf4a8a",
   "metadata": {},
   "source": [
    "En git el folder principal es un **arbol** y los archivos que conforman el arbol se llaman **blob**."
   ]
  },
  {
   "attachments": {},
   "cell_type": "markdown",
   "id": "3e6bba73",
   "metadata": {},
   "source": [
    "### ¿Cómo se modela la historia en Git?"
   ]
  },
  {
   "attachments": {},
   "cell_type": "markdown",
   "id": "24cfa196",
   "metadata": {},
   "source": [
    "Lo normal sería tener una secuencia lineal de snapshots, pero Git maneja sus datos como un conjunto de copias instantáneas de un sistema de archivos miniatura. Lo más importante es entender que cada cambio lo hace un _papá_ y la idea es saber que cambio fue antes que el otro. "
   ]
  },
  {
   "attachments": {},
   "cell_type": "markdown",
   "id": "b6129c76",
   "metadata": {},
   "source": [
    "<img src=\"ej2.jpg\">"
   ]
  },
  {
   "attachments": {},
   "cell_type": "markdown",
   "id": "3e016710",
   "metadata": {},
   "source": [
    "Los punteros dentro de git se direccionan hacia atrás, y esto nos permite por ejemplo, arreglar un error en cualquiera de los estados del archivo para luego hacer un **merge** y tener una version con ambos cambios lista para trabajar.\n",
    "\n",
    "Git lo que hace es referir a través de punteros a los árboles y commits, cada **commit** es un nombre que se le asigna a cada cambio, Git por default asignara un código HASH para identificar cada estado pero podemos cambiar el nombre a através de un commit y usualmente en este se describe que se hizo en el cambio que se está actualizando."
   ]
  },
  {
   "attachments": {},
   "cell_type": "markdown",
   "id": "9a2b586f",
   "metadata": {},
   "source": [
    "## Algunos comandos básicos para iniciar en Git"
   ]
  },
  {
   "attachments": {},
   "cell_type": "markdown",
   "id": "895680a2",
   "metadata": {},
   "source": [
    "Iniciar un directorio en Git, dentro de la dirección del archivo"
   ]
  },
  {
   "attachments": {},
   "cell_type": "markdown",
   "id": "0d19ef29",
   "metadata": {},
   "source": [
    "`git init`"
   ]
  },
  {
   "attachments": {},
   "cell_type": "markdown",
   "id": "79d4456f",
   "metadata": {},
   "source": [
    "Ver el estado de un directorio en Git"
   ]
  },
  {
   "attachments": {},
   "cell_type": "markdown",
   "id": "74d7c287",
   "metadata": {},
   "source": [
    "`git status`"
   ]
  },
  {
   "attachments": {},
   "cell_type": "markdown",
   "id": "7ea56b5f",
   "metadata": {},
   "source": [
    "Agregar los archivos a un commit"
   ]
  },
  {
   "attachments": {},
   "cell_type": "markdown",
   "id": "ce978c4d",
   "metadata": {},
   "source": [
    "`git add *`"
   ]
  },
  {
   "attachments": {},
   "cell_type": "markdown",
   "id": "108ef493",
   "metadata": {},
   "source": [
    "Subir un cambio a Git"
   ]
  },
  {
   "attachments": {},
   "cell_type": "markdown",
   "id": "d1567668",
   "metadata": {},
   "source": [
    "`git commit -m \"Descripción del cambio que se quiere guardar\"`"
   ]
  }
 ],
 "metadata": {
  "kernelspec": {
   "display_name": "prueba1",
   "language": "python",
   "name": "python3"
  },
  "language_info": {
   "codemirror_mode": {
    "name": "ipython",
    "version": 3
   },
   "file_extension": ".py",
   "mimetype": "text/x-python",
   "name": "python",
   "nbconvert_exporter": "python",
   "pygments_lexer": "ipython3",
   "version": "3.9.16"
  },
  "vscode": {
   "interpreter": {
    "hash": "d11a499bdc82015561714d715173f11b660bb0aba1ad91515daef6b2eef0ef6f"
   }
  }
 },
 "nbformat": 4,
 "nbformat_minor": 5
}
